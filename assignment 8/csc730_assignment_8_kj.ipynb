{
 "cells": [
  {
   "cell_type": "code",
   "execution_count": 1,
   "metadata": {},
   "outputs": [
    {
     "data": {
      "text/plain": [
       "1"
      ]
     },
     "execution_count": 1,
     "metadata": {},
     "output_type": "execute_result"
    }
   ],
   "source": [
    "#This assignment will use MNIST data to build an active learning model\n",
    "#We will use the entire MNIST data set, with an 80/20 split for training and testing\n",
    "\n",
    "\n",
    "#references\n",
    "1#ttps://en.wikipedia.org/wiki/Active_learning_(machine_learning)\n"
   ]
  },
  {
   "cell_type": "code",
   "execution_count": 2,
   "metadata": {},
   "outputs": [],
   "source": [
    "#1. import libraries\n",
    "import numpy as np\n",
    "import matplotlib.pyplot as plt\n",
    "from sklearn.model_selection import train_test_split\n",
    "import os\n",
    "\n",
    "from graphviz import Digraph\n",
    "\n",
    "from sklearn.metrics import roc_curve\n",
    "from sklearn.metrics import roc_auc_score\n",
    "from sklearn.metrics import precision_recall_curve\n",
    "from sklearn.metrics import auc\n",
    "from sklearn.datasets import fetch_openml\n",
    "\n",
    "from IPython.display import Image"
   ]
  },
  {
   "cell_type": "code",
   "execution_count": 14,
   "metadata": {},
   "outputs": [
    {
     "ename": "NameError",
     "evalue": "name 'X' is not defined",
     "output_type": "error",
     "traceback": [
      "\u001b[0;31m---------------------------------------------------------------------------\u001b[0m",
      "\u001b[0;31mNameError\u001b[0m                                 Traceback (most recent call last)",
      "Cell \u001b[0;32mIn[14], line 25\u001b[0m\n\u001b[1;32m     20\u001b[0m \u001b[38;5;28;01mif\u001b[39;00m os\u001b[38;5;241m.\u001b[39mpath\u001b[38;5;241m.\u001b[39mexists(os\u001b[38;5;241m.\u001b[39mgetcwd() \u001b[38;5;241m+\u001b[39m data_path \u001b[38;5;241m+\u001b[39m test_labels_file):\n\u001b[1;32m     21\u001b[0m     y_test \u001b[38;5;241m=\u001b[39m np\u001b[38;5;241m.\u001b[39mload(os\u001b[38;5;241m.\u001b[39mgetcwd() \u001b[38;5;241m+\u001b[39m data_path \u001b[38;5;241m+\u001b[39m test_labels_file, allow_pickle\u001b[38;5;241m=\u001b[39m\u001b[38;5;28;01mTrue\u001b[39;00m)\n\u001b[0;32m---> 25\u001b[0m \u001b[38;5;28mprint\u001b[39m(\u001b[38;5;124mf\u001b[39m\u001b[38;5;124m\"\u001b[39m\u001b[38;5;124mData loaded, X shape: \u001b[39m\u001b[38;5;132;01m{\u001b[39;00m\u001b[43mX\u001b[49m\u001b[38;5;241m.\u001b[39mshape\u001b[38;5;132;01m}\u001b[39;00m\u001b[38;5;124m, y shape: \u001b[39m\u001b[38;5;132;01m{\u001b[39;00my\u001b[38;5;241m.\u001b[39mshape\u001b[38;5;132;01m}\u001b[39;00m\u001b[38;5;124m\"\u001b[39m)\n",
      "\u001b[0;31mNameError\u001b[0m: name 'X' is not defined"
     ]
    }
   ],
   "source": [
    "\n",
    "#check data path\n",
    "data_path = '/../data/mnist/'\n",
    "\n",
    "\n",
    "train_data_file = 'mnist_train_28x28.npy'\n",
    "train_labels_file = 'mnist_train_labels_28x28.npy'\n",
    "test_data_file = 'mnist_test_28x28.npy'\n",
    "test_labels_file = 'mnist_test_labels_28x28.npy'\n",
    "\n",
    "if os.path.exists(os.getcwd() + data_path + train_data_file):\n",
    "    X_train = np.load(os.getcwd() + data_path + train_data_file, allow_pickle=True)\n",
    "\n",
    "if os.path.exists(os.getcwd() + data_path + train_labels_file):\n",
    "    y_train = np.load(os.getcwd() + data_path + train_labels_file, allow_pickle=True)\n",
    "\n",
    "if os.path.exists(os.getcwd() + data_path + test_data_file):\n",
    "    X_test = np.load(os.getcwd() + data_path + test_data_file, allow_pickle=True)\n",
    "\n",
    "if os.path.exists(os.getcwd() + data_path + test_labels_file):\n",
    "    y_test = np.load(os.getcwd() + data_path + test_labels_file, allow_pickle=True)\n",
    "\n",
    "\n"
   ]
  }
 ],
 "metadata": {
  "kernelspec": {
   "display_name": ".venv",
   "language": "python",
   "name": "python3"
  },
  "language_info": {
   "codemirror_mode": {
    "name": "ipython",
    "version": 3
   },
   "file_extension": ".py",
   "mimetype": "text/x-python",
   "name": "python",
   "nbconvert_exporter": "python",
   "pygments_lexer": "ipython3",
   "version": "3.12.3"
  }
 },
 "nbformat": 4,
 "nbformat_minor": 2
}
