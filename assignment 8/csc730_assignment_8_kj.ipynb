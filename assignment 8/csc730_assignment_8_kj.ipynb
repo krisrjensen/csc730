{
 "cells": [
  {
   "cell_type": "code",
   "execution_count": 16,
   "metadata": {},
   "outputs": [
    {
     "data": {
      "text/plain": [
       "1"
      ]
     },
     "execution_count": 16,
     "metadata": {},
     "output_type": "execute_result"
    }
   ],
   "source": [
    "#This assignment will use MNIST data to build an active learning model\n",
    "#We will use the entire MNIST data set, with an 80/20 split for training and testing\n",
    "\n",
    "\n",
    "#references\n",
    "1#ttps://en.wikipedia.org/wiki/Active_learning_(machine_learning)\n"
   ]
  },
  {
   "cell_type": "code",
   "execution_count": 17,
   "metadata": {},
   "outputs": [],
   "source": [
    "#1. import libraries\n",
    "import numpy as np\n",
    "import matplotlib.pyplot as plt\n",
    "from sklearn.model_selection import train_test_split\n",
    "import os\n",
    "\n",
    "from graphviz import Digraph\n",
    "\n",
    "from sklearn.metrics import roc_curve\n",
    "from sklearn.metrics import roc_auc_score\n",
    "from sklearn.metrics import precision_recall_curve\n",
    "from sklearn.metrics import auc\n",
    "from sklearn.datasets import fetch_openml\n",
    "\n",
    "from IPython.display import Image"
   ]
  },
  {
   "cell_type": "code",
   "execution_count": 18,
   "metadata": {},
   "outputs": [],
   "source": [
    "\n",
    "#check data path\n",
    "data_path = '/../data/mnist/'\n",
    "\n",
    "\n",
    "train_data_file = 'mnist_train_28x28.npy'\n",
    "train_labels_file = 'mnist_train_labels_28x28.npy'\n",
    "test_data_file = 'mnist_test_28x28.npy'\n",
    "test_labels_file = 'mnist_test_labels_28x28.npy'\n",
    "\n",
    "if os.path.exists(os.getcwd() + data_path + train_data_file):\n",
    "    X_train = np.load(os.getcwd() + data_path + train_data_file, allow_pickle=True)\n",
    "\n",
    "if os.path.exists(os.getcwd() + data_path + train_labels_file):\n",
    "    y_train = np.load(os.getcwd() + data_path + train_labels_file, allow_pickle=True)\n",
    "\n",
    "if os.path.exists(os.getcwd() + data_path + test_data_file):\n",
    "    X_test = np.load(os.getcwd() + data_path + test_data_file, allow_pickle=True)\n",
    "\n",
    "if os.path.exists(os.getcwd() + data_path + test_labels_file):\n",
    "    y_test = np.load(os.getcwd() + data_path + test_labels_file, allow_pickle=True)\n",
    "\n",
    "\n"
   ]
  },
  {
   "cell_type": "markdown",
   "metadata": {},
   "source": [
    "The active learning algorithm has the following psuedocode  \n",
    "\n",
    "Input: Dl, Du, h\n",
    "Output: h\n",
    "\n",
    "1) Train h using Dl\n",
    "2) While stopping conditions not met Do  \n",
    "    1) For each instance Xi in Du  \n",
    "    1) ui = u(Xi, h)  \n",
    "    1) End for  \n",
    "    1) i* = argmax(ui, i)\n",
    "    2) x* = xi*\n",
    "    3) y* = query(x*)\n",
    "    4) Dl = Dl union (x*, y*)\n",
    "    5) Du = Du subtract x*\n",
    "    6) Update h based on new Dl\n",
    "9) End while"
   ]
  },
  {
   "cell_type": "code",
   "execution_count": null,
   "metadata": {},
   "outputs": [],
   "source": [
    "#source of active-learning algorithm\n",
    "\"\"\"\n",
    "https://doi.org/ 10.3390/math11040820\n",
    "\n",
    "@article{tharwat2023survey,\n",
    "  title={A survey on active learning: state-of-the-art, practical challenges and research directions},\n",
    "  author={Tharwat, Alaa and Schenck, Wolfram},\n",
    "  journal={Mathematics},\n",
    "  volume={11},\n",
    "  number={4},\n",
    "  pages={820},\n",
    "  year={2023},\n",
    "  publisher={MDPI}\n",
    "}\"\"\"\n",
    "\n"
   ]
  }
 ],
 "metadata": {
  "kernelspec": {
   "display_name": ".venv",
   "language": "python",
   "name": "python3"
  },
  "language_info": {
   "codemirror_mode": {
    "name": "ipython",
    "version": 3
   },
   "file_extension": ".py",
   "mimetype": "text/x-python",
   "name": "python",
   "nbconvert_exporter": "python",
   "pygments_lexer": "ipython3",
   "version": "3.12.3"
  }
 },
 "nbformat": 4,
 "nbformat_minor": 2
}
