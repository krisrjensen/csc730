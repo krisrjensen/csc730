{
 "cells": [
  {
   "cell_type": "code",
   "execution_count": 1,
   "id": "f1c8b3b7",
   "metadata": {},
   "outputs": [],
   "source": [
    "import numpy as np\n",
    "import matplotlib.pyplot as plt\n",
    "%matplotlib qt\n",
    "np.random.seed(seed = 25)"
   ]
  },
  {
   "cell_type": "code",
   "execution_count": 2,
   "id": "dd3bf6ec",
   "metadata": {},
   "outputs": [],
   "source": [
    "# create 2 gaussians\n",
    "\n",
    "normal1_mean = [-2, -2]\n",
    "normal1_cov = [[1, 0], [0, 1]]\n",
    "num_normal1_samples = 10\n",
    "normal1 = np.random.multivariate_normal(mean=normal1_mean, cov=normal1_cov, size=num_normal1_samples)\n",
    "\n",
    "normal2_mean = [2,2]\n",
    "normal2_cov = [[1, 0], [0, 1]]\n",
    "num_normal2_samples = 10\n",
    "normal2 = np.random.multivariate_normal(mean=normal2_mean, cov=normal2_cov, size=num_normal2_samples)\n"
   ]
  },
  {
   "cell_type": "code",
   "execution_count": 5,
   "id": "fda968d5",
   "metadata": {},
   "outputs": [
    {
     "name": "stdout",
     "output_type": "stream",
     "text": [
      "(20, 2)\n",
      "(20,)\n"
     ]
    }
   ],
   "source": [
    "# create a fully labeled dataset (for Part I)\n",
    "X = np.concatenate((normal1,normal2),axis = 0)\n",
    "print(X.shape)\n",
    "y = np.array(num_normal1_samples*[1])\n",
    "y = np.concatenate((y,np.array(num_normal2_samples*[2])))\n",
    "print(y.shape)"
   ]
  },
  {
   "cell_type": "code",
   "execution_count": 3,
   "id": "c4f8d357",
   "metadata": {},
   "outputs": [
    {
     "name": "stdout",
     "output_type": "stream",
     "text": [
      "[1 2]\n",
      "[[-1.92362035 -3.24608928]\n",
      " [ 4.29484234 -0.59448738]]\n",
      "(18, 2)\n"
     ]
    }
   ],
   "source": [
    "num_labeled_pts_per_cluster = 1\n",
    "# create labeled y array\n",
    "y_L = np.array(num_labeled_pts_per_cluster*[1])\n",
    "y_L = np.concatenate((y_L,np.array(num_labeled_pts_per_cluster*[2])),axis = 0)\n",
    "print(y_L)\n",
    "\n",
    "# create labeled X array\n",
    "# select points from each gaussian to be labeled points\n",
    "rng = np.random.default_rng()\n",
    "rand_inds_1 = rng.choice(num_normal1_samples, num_labeled_pts_per_cluster, replace=False)\n",
    "X_L = normal1[rand_inds_1,:]\n",
    "rand_inds_2 = rng.choice(num_normal2_samples, num_labeled_pts_per_cluster, replace=False)\n",
    "X_L = np.concatenate((X_L,normal2[rand_inds_2,:]))\n",
    "print(X_L)\n",
    "\n",
    "# create unlabeled array\n",
    "X_U = normal1.copy()\n",
    "X_U = np.delete(X_U,rand_inds_1,axis = 0)\n",
    "X_temp = normal2.copy()\n",
    "X_temp = np.delete(X_temp,rand_inds_2,axis = 0)\n",
    "X_U = np.concatenate((X_U,X_temp),axis = 0)\n",
    "print(X_U.shape)"
   ]
  },
  {
   "cell_type": "code",
   "execution_count": 4,
   "id": "c587f352",
   "metadata": {},
   "outputs": [
    {
     "data": {
      "text/plain": [
       "<matplotlib.legend.Legend at 0x234f3d68e80>"
      ]
     },
     "execution_count": 4,
     "metadata": {},
     "output_type": "execute_result"
    }
   ],
   "source": [
    "fig, axs = plt.subplots(1,1)\n",
    "\n",
    "# plt.figure()\n",
    "plt.plot(X_U[:,0],X_U[:,1],'ko',alpha = 0.2)\n",
    "\n",
    "c_inds = np.where(y_L == 1)[0]\n",
    "plt.plot(X_L[c_inds,0],X_L[c_inds,1],'rs',label = f'class {str(1)}',markersize = 10)\n",
    "c_inds = np.where(y_L == 2)[0]\n",
    "plt.plot(X_L[c_inds,0],X_L[c_inds,1],'bd',label = f'class {str(2)}',markersize = 10)\n",
    "\n",
    "axs.set(xlim=(-5, 5), ylim=(-5, 5))\n",
    "axs.set_aspect('equal', 'box')\n",
    "\n",
    "plt.grid()\n",
    "plt.legend()"
   ]
  },
  {
   "cell_type": "code",
   "execution_count": null,
   "id": "2c78f97d",
   "metadata": {},
   "outputs": [],
   "source": [
    "# Part I - Find classifier using fully labeled data (i.e. X,y)"
   ]
  },
  {
   "cell_type": "code",
   "execution_count": null,
   "id": "ec4dd3fe",
   "metadata": {},
   "outputs": [],
   "source": [
    "# Part II - Find classifier using subset of labeled data (i.e. just X_L,y_L)"
   ]
  },
  {
   "cell_type": "code",
   "execution_count": null,
   "id": "2dbffb3e",
   "metadata": {},
   "outputs": [],
   "source": [
    "# Part III - Find classifier using semi-supervised wrapper method (i.e. X_L,y_L, and X_U)"
   ]
  },
  {
   "cell_type": "code",
   "execution_count": null,
   "id": "a6b81beb",
   "metadata": {},
   "outputs": [],
   "source": [
    "# Show the classifier boundaries for all of these on a single plot"
   ]
  }
 ],
 "metadata": {
  "kernelspec": {
   "display_name": "Python 3 (ipykernel)",
   "language": "python",
   "name": "python3"
  },
  "language_info": {
   "codemirror_mode": {
    "name": "ipython",
    "version": 3
   },
   "file_extension": ".py",
   "mimetype": "text/x-python",
   "name": "python",
   "nbconvert_exporter": "python",
   "pygments_lexer": "ipython3",
   "version": "3.9.18"
  }
 },
 "nbformat": 4,
 "nbformat_minor": 5
}
