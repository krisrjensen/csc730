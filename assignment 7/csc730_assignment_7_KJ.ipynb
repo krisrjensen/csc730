{
 "cells": [
  {
   "cell_type": "code",
   "execution_count": null,
   "metadata": {},
   "outputs": [],
   "source": [
    "#the goals of this assignment include:\n",
    "#1. write isolation forest algorithm from scratch\n",
    "#2. apply the algorithm to a dataset\n",
    "#3. evaluate the performance of the algorithm\n",
    "#4. write a report on the results\n",
    "\n",
    "#the sources for this assignment are as follows:\n",
    "#1 assignment7.pdf\n",
    "#2 https://en.wikipedia.org/wiki/Isolation_forest\n",
    "#3 https://cs.nju.edu.cn/zhouzh/zhouzh.files/publication/icdm08b.pdf\n",
    "\n",
    "#the structure of the code is as follows:\n",
    "#1. import libraries\n",
    "#2. define classes\n",
    "#3. define functions\n",
    "#4. run the code\n",
    "\n"
   ]
  },
  {
   "cell_type": "code",
   "execution_count": null,
   "metadata": {},
   "outputs": [],
   "source": [
    "#1. import libraries\n",
    "import numpy as np\n",
    "import pandas as pd\n",
    "import matplotlib.pyplot as plt\n"
   ]
  },
  {
   "cell_type": "code",
   "execution_count": null,
   "metadata": {},
   "outputs": [],
   "source": [
    "#defining the class for the isolation forest\n",
    "class IsolationForest:\n",
    "    def __init__(self, X, n_trees, sample_size):\n",
    "        self.X = X\n",
    "        self.n_trees = n_trees\n",
    "        self.sample_size = sample_size\n",
    "        self.trees = []\n",
    "        self.fit()\n",
    "        \n",
    "    def fit(self):\n",
    "        for i in range(self.n_trees):\n",
    "            X = self.X\n",
    "            X = X.sample(self.sample_size)\n",
    "            tree = IsolationTree(X, 0)\n",
    "            self.trees.append(tree)\n",
    "            \n",
    "    def anomaly_score(self, X):\n",
    "        scores = np.array([tree.anomaly_score(X) for tree in self.trees])\n",
    "        return scores.mean(axis=0)\n",
    "    \n",
    "    def anomaly_label(self, X, threshold):\n",
    "        scores = self.anomaly_score(X)\n",
    "        return scores > threshold\n",
    "    \n",
    "#defining the class for the isolation tree\n",
    "class IsolationTree:\n",
    "    def __init__(self, X, height):\n",
    "        self.X = X\n",
    "        self.size = len(X)\n",
    "        self.height = height\n",
    "        self.split(X)\n",
    "        \n",
    "    def split(self, X):\n",
    "        if self.height >= 10 or len(X) <= 1:\n",
    "            self.left = None\n",
    "            self.right = None\n",
    "            self.split_attribute = None\n",
    "            self.split_value = None\n",
    "            return\n",
    "        n_features = X.shape[1]\n",
    "        self.split_attribute = np.random.choice(n_features)\n",
    "        self.split_value = np.random.uniform(X.iloc[:, self.split_attribute].min(), X.iloc[:, self.split_attribute].max())\n",
    "        left = X[X.iloc[:, self.split_attribute] < self.split_value]\n",
    "        right = X[X.iloc[:, self.split_attribute] >= self.split_value]\n",
    "        self.left = IsolationTree(left, self.height + 1)\n",
    "        self.right = IsolationTree(right, self.height + 1)\n",
    "        \n",
    "    def anomaly_score(self, X):\n",
    "        if self.left is None:\n",
    "            return self.height\n",
    "        return 1 + (self.left.anomaly_score(X) if X.iloc[self.split_attribute] < self.split_value else self.right.anomaly_score(X))\n",
    "    "
   ]
  }
 ],
 "metadata": {
  "kernelspec": {
   "display_name": ".venv",
   "language": "python",
   "name": "python3"
  },
  "language_info": {
   "name": "python",
   "version": "3.12.0"
  }
 },
 "nbformat": 4,
 "nbformat_minor": 2
}
