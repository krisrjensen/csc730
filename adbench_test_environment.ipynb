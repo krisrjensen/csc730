{
 "cells": [
  {
   "cell_type": "code",
   "execution_count": 1,
   "metadata": {},
   "outputs": [
    {
     "name": "stderr",
     "output_type": "stream",
     "text": [
      "h:\\dev\\git\\csc730_adbench\\.venv\\lib\\site-packages\\tqdm\\auto.py:21: TqdmWarning: IProgress not found. Please update jupyter and ipywidgets. See https://ipywidgets.readthedocs.io/en/stable/user_install.html\n",
      "  from .autonotebook import tqdm as notebook_tqdm\n"
     ]
    },
    {
     "name": "stdout",
     "output_type": "stream",
     "text": [
      "if there is any question while downloading datasets, we suggest you to download it from the website:\n",
      "https://github.com/Minqi824/ADBench/tree/main/adbench/datasets\n",
      "如果您在中国大陆地区，请使用链接：\n",
      "https://jihulab.com/BraudoCC/ADBench_datasets/\n",
      "Downloading datasets from the remote github repo...\n"
     ]
    },
    {
     "name": "stderr",
     "output_type": "stream",
     "text": [
      "  0%|          | 0/3 [00:00<?, ?it/s]"
     ]
    },
    {
     "name": "stdout",
     "output_type": "stream",
     "text": [
      "Current saving path: h:\\dev\\git\\csc730_adbench\\.venv\\lib\\site-packages\\adbench\\datasets\\CV_by_ResNet18\n"
     ]
    },
    {
     "name": "stderr",
     "output_type": "stream",
     "text": [
      " 33%|███▎      | 1/3 [01:44<03:29, 104.98s/it]"
     ]
    },
    {
     "name": "stdout",
     "output_type": "stream",
     "text": [
      "Current saving path: h:\\dev\\git\\csc730_adbench\\.venv\\lib\\site-packages\\adbench\\datasets\\NLP_by_BERT\n"
     ]
    },
    {
     "name": "stderr",
     "output_type": "stream",
     "text": [
      " 67%|██████▋   | 2/3 [02:23<01:06, 66.02s/it] "
     ]
    },
    {
     "name": "stdout",
     "output_type": "stream",
     "text": [
      "Current saving path: h:\\dev\\git\\csc730_adbench\\.venv\\lib\\site-packages\\adbench\\datasets\\Classical\n"
     ]
    },
    {
     "name": "stderr",
     "output_type": "stream",
     "text": [
      "100%|██████████| 3/3 [03:15<00:00, 65.21s/it]\n"
     ]
    }
   ],
   "source": [
    "# download datasets in ADBench from the remote github repo\n",
    "from adbench.myutils import Utils\n",
    "utils = Utils()\n",
    "# we recommend jihulab for China mainland user and github otherwise\n",
    "utils.download_datasets(repo='github')"
   ]
  },
  {
   "cell_type": "code",
   "execution_count": 4,
   "metadata": {},
   "outputs": [
    {
     "ename": "ImportError",
     "evalue": "cannot import name '_joblib_parallel_args' from 'sklearn.utils.fixes' (h:\\dev\\git\\csc730_adbench\\.venv\\lib\\site-packages\\sklearn\\utils\\fixes.py)",
     "output_type": "error",
     "traceback": [
      "\u001b[1;31m---------------------------------------------------------------------------\u001b[0m",
      "\u001b[1;31mImportError\u001b[0m                               Traceback (most recent call last)",
      "Cell \u001b[1;32mIn[4], line 19\u001b[0m\n\u001b[0;32m      3\u001b[0m \u001b[38;5;124;03m'''\u001b[39;00m\n\u001b[0;32m      4\u001b[0m \u001b[38;5;124;03mParams:\u001b[39;00m\n\u001b[0;32m      5\u001b[0m \u001b[38;5;124;03msuffix: file name suffix;\u001b[39;00m\n\u001b[1;32m   (...)\u001b[0m\n\u001b[0;32m     14\u001b[0m \u001b[38;5;124;03mcorresponding to the Angle III: Model Robustness with Noisy and Corrupted Data.\u001b[39;00m\n\u001b[0;32m     15\u001b[0m \u001b[38;5;124;03m'''\u001b[39;00m\n\u001b[0;32m     17\u001b[0m \u001b[38;5;66;03m# return the results including [params, model_name, metrics, time_fit, time_inference]\u001b[39;00m\n\u001b[0;32m     18\u001b[0m \u001b[38;5;66;03m# besides, results will be automatically saved in the dataframe and ouputted as csv file in adbench/result folder\u001b[39;00m\n\u001b[1;32m---> 19\u001b[0m pipeline \u001b[38;5;241m=\u001b[39m \u001b[43mRunPipeline\u001b[49m\u001b[43m(\u001b[49m\u001b[43msuffix\u001b[49m\u001b[38;5;241;43m=\u001b[39;49m\u001b[38;5;124;43m'\u001b[39;49m\u001b[38;5;124;43mADBench\u001b[39;49m\u001b[38;5;124;43m'\u001b[39;49m\u001b[43m,\u001b[49m\u001b[43m \u001b[49m\u001b[43mparallel\u001b[49m\u001b[38;5;241;43m=\u001b[39;49m\u001b[38;5;124;43m'\u001b[39;49m\u001b[38;5;124;43msemi-supervise\u001b[39;49m\u001b[38;5;124;43m'\u001b[39;49m\u001b[43m,\u001b[49m\u001b[43m \u001b[49m\u001b[43mrealistic_synthetic_mode\u001b[49m\u001b[38;5;241;43m=\u001b[39;49m\u001b[38;5;28;43;01mNone\u001b[39;49;00m\u001b[43m,\u001b[49m\u001b[43m \u001b[49m\u001b[43mnoise_type\u001b[49m\u001b[38;5;241;43m=\u001b[39;49m\u001b[38;5;28;43;01mNone\u001b[39;49;00m\u001b[43m)\u001b[49m\n\u001b[0;32m     20\u001b[0m results \u001b[38;5;241m=\u001b[39m pipeline\u001b[38;5;241m.\u001b[39mrun()\n\u001b[0;32m     22\u001b[0m pipeline \u001b[38;5;241m=\u001b[39m RunPipeline(suffix\u001b[38;5;241m=\u001b[39m\u001b[38;5;124m'\u001b[39m\u001b[38;5;124mADBench\u001b[39m\u001b[38;5;124m'\u001b[39m, parallel\u001b[38;5;241m=\u001b[39m\u001b[38;5;124m'\u001b[39m\u001b[38;5;124munsupervise\u001b[39m\u001b[38;5;124m'\u001b[39m, realistic_synthetic_mode\u001b[38;5;241m=\u001b[39m\u001b[38;5;124m'\u001b[39m\u001b[38;5;124mcluster\u001b[39m\u001b[38;5;124m'\u001b[39m, noise_type\u001b[38;5;241m=\u001b[39m\u001b[38;5;28;01mNone\u001b[39;00m)\n",
      "File \u001b[1;32mh:\\dev\\git\\csc730_adbench\\.venv\\lib\\site-packages\\adbench\\run.py:95\u001b[0m, in \u001b[0;36mRunPipeline.__init__\u001b[1;34m(self, suffix, mode, parallel, generate_duplicates, n_samples_threshold, realistic_synthetic_mode, noise_type)\u001b[0m\n\u001b[0;32m     93\u001b[0m \u001b[38;5;66;03m# semi-supervised algorithms\u001b[39;00m\n\u001b[0;32m     94\u001b[0m \u001b[38;5;28;01melif\u001b[39;00m \u001b[38;5;28mself\u001b[39m\u001b[38;5;241m.\u001b[39mparallel \u001b[38;5;241m==\u001b[39m \u001b[38;5;124m'\u001b[39m\u001b[38;5;124msemi-supervise\u001b[39m\u001b[38;5;124m'\u001b[39m:\n\u001b[1;32m---> 95\u001b[0m     \u001b[38;5;28;01mfrom\u001b[39;00m \u001b[38;5;21;01madbench\u001b[39;00m\u001b[38;5;21;01m.\u001b[39;00m\u001b[38;5;21;01mbaseline\u001b[39;00m\u001b[38;5;21;01m.\u001b[39;00m\u001b[38;5;21;01mPyOD\u001b[39;00m \u001b[38;5;28;01mimport\u001b[39;00m PYOD\n\u001b[0;32m     96\u001b[0m     \u001b[38;5;28;01mfrom\u001b[39;00m \u001b[38;5;21;01madbench\u001b[39;00m\u001b[38;5;21;01m.\u001b[39;00m\u001b[38;5;21;01mbaseline\u001b[39;00m\u001b[38;5;21;01m.\u001b[39;00m\u001b[38;5;21;01mGANomaly\u001b[39;00m\u001b[38;5;21;01m.\u001b[39;00m\u001b[38;5;21;01mrun\u001b[39;00m \u001b[38;5;28;01mimport\u001b[39;00m GANomaly\n\u001b[0;32m     97\u001b[0m     \u001b[38;5;28;01mfrom\u001b[39;00m \u001b[38;5;21;01madbench\u001b[39;00m\u001b[38;5;21;01m.\u001b[39;00m\u001b[38;5;21;01mbaseline\u001b[39;00m\u001b[38;5;21;01m.\u001b[39;00m\u001b[38;5;21;01mDeepSAD\u001b[39;00m\u001b[38;5;21;01m.\u001b[39;00m\u001b[38;5;21;01msrc\u001b[39;00m\u001b[38;5;21;01m.\u001b[39;00m\u001b[38;5;21;01mrun\u001b[39;00m \u001b[38;5;28;01mimport\u001b[39;00m DeepSAD\n",
      "File \u001b[1;32mh:\\dev\\git\\csc730_adbench\\.venv\\lib\\site-packages\\adbench\\baseline\\PyOD.py:5\u001b[0m\n\u001b[0;32m      2\u001b[0m \u001b[38;5;28;01mimport\u001b[39;00m \u001b[38;5;21;01mnumpy\u001b[39;00m \u001b[38;5;28;01mas\u001b[39;00m \u001b[38;5;21;01mnp\u001b[39;00m\n\u001b[0;32m      4\u001b[0m \u001b[38;5;66;03m#add the baselines from the pyod package\u001b[39;00m\n\u001b[1;32m----> 5\u001b[0m \u001b[38;5;28;01mfrom\u001b[39;00m \u001b[38;5;21;01mpyod\u001b[39;00m\u001b[38;5;21;01m.\u001b[39;00m\u001b[38;5;21;01mmodels\u001b[39;00m\u001b[38;5;21;01m.\u001b[39;00m\u001b[38;5;21;01miforest\u001b[39;00m \u001b[38;5;28;01mimport\u001b[39;00m IForest\n\u001b[0;32m      6\u001b[0m \u001b[38;5;28;01mfrom\u001b[39;00m \u001b[38;5;21;01mpyod\u001b[39;00m\u001b[38;5;21;01m.\u001b[39;00m\u001b[38;5;21;01mmodels\u001b[39;00m\u001b[38;5;21;01m.\u001b[39;00m\u001b[38;5;21;01mocsvm\u001b[39;00m \u001b[38;5;28;01mimport\u001b[39;00m OCSVM\n\u001b[0;32m      7\u001b[0m \u001b[38;5;28;01mfrom\u001b[39;00m \u001b[38;5;21;01mpyod\u001b[39;00m\u001b[38;5;21;01m.\u001b[39;00m\u001b[38;5;21;01mmodels\u001b[39;00m\u001b[38;5;21;01m.\u001b[39;00m\u001b[38;5;21;01mabod\u001b[39;00m \u001b[38;5;28;01mimport\u001b[39;00m ABOD\n",
      "File \u001b[1;32mh:\\dev\\git\\csc730_adbench\\.venv\\lib\\site-packages\\pyod\\models\\iforest.py:13\u001b[0m\n\u001b[0;32m     11\u001b[0m \u001b[38;5;28;01mfrom\u001b[39;00m \u001b[38;5;21;01mjoblib\u001b[39;00m \u001b[38;5;28;01mimport\u001b[39;00m Parallel\n\u001b[0;32m     12\u001b[0m \u001b[38;5;28;01mfrom\u001b[39;00m \u001b[38;5;21;01mjoblib\u001b[39;00m\u001b[38;5;21;01m.\u001b[39;00m\u001b[38;5;21;01mparallel\u001b[39;00m \u001b[38;5;28;01mimport\u001b[39;00m delayed\n\u001b[1;32m---> 13\u001b[0m \u001b[38;5;28;01mfrom\u001b[39;00m \u001b[38;5;21;01msklearn\u001b[39;00m\u001b[38;5;21;01m.\u001b[39;00m\u001b[38;5;21;01mutils\u001b[39;00m\u001b[38;5;21;01m.\u001b[39;00m\u001b[38;5;21;01mfixes\u001b[39;00m \u001b[38;5;28;01mimport\u001b[39;00m _joblib_parallel_args\n\u001b[0;32m     15\u001b[0m \u001b[38;5;28;01mfrom\u001b[39;00m \u001b[38;5;21;01msklearn\u001b[39;00m\u001b[38;5;21;01m.\u001b[39;00m\u001b[38;5;21;01mensemble\u001b[39;00m \u001b[38;5;28;01mimport\u001b[39;00m IsolationForest\n\u001b[0;32m     16\u001b[0m \u001b[38;5;28;01mfrom\u001b[39;00m \u001b[38;5;21;01msklearn\u001b[39;00m\u001b[38;5;21;01m.\u001b[39;00m\u001b[38;5;21;01mutils\u001b[39;00m\u001b[38;5;21;01m.\u001b[39;00m\u001b[38;5;21;01mvalidation\u001b[39;00m \u001b[38;5;28;01mimport\u001b[39;00m check_is_fitted\n",
      "\u001b[1;31mImportError\u001b[0m: cannot import name '_joblib_parallel_args' from 'sklearn.utils.fixes' (h:\\dev\\git\\csc730_adbench\\.venv\\lib\\site-packages\\sklearn\\utils\\fixes.py)"
     ]
    }
   ],
   "source": [
    "from adbench.run import RunPipeline\n",
    "\n",
    "'''\n",
    "Params:\n",
    "suffix: file name suffix;\n",
    "\n",
    "parallel: running either 'unsupervise', 'semi-supervise', or 'supervise' (AD) algorithms,\n",
    "corresponding to the Angle I: Availability of Ground Truth Labels (Supervision);\n",
    "\n",
    "realistic_synthetic_mode: testing on 'local', 'global', 'dependency', and 'cluster' anomalies, \n",
    "corresponding to the Angle II: Types of Anomalies;\n",
    "\n",
    "noise type: evaluating algorithms on 'duplicated_anomalies', 'irrelevant_features' and 'label_contamination',\n",
    "corresponding to the Angle III: Model Robustness with Noisy and Corrupted Data.\n",
    "'''\n",
    "\n",
    "# return the results including [params, model_name, metrics, time_fit, time_inference]\n",
    "# besides, results will be automatically saved in the dataframe and ouputted as csv file in adbench/result folder\n",
    "pipeline = RunPipeline(suffix='ADBench', parallel='semi-supervise', realistic_synthetic_mode=None, noise_type=None)\n",
    "results = pipeline.run()\n",
    "\n",
    "pipeline = RunPipeline(suffix='ADBench', parallel='unsupervise', realistic_synthetic_mode='cluster', noise_type=None)\n",
    "results = pipeline.run()\n",
    "\n",
    "pipeline = RunPipeline(suffix='ADBench', parallel='supervise', realistic_synthetic_mode=None, noise_type='irrelevant_features')\n",
    "results = pipeline.run()"
   ]
  }
 ],
 "metadata": {
  "kernelspec": {
   "display_name": "Python 3",
   "language": "python",
   "name": "python3"
  },
  "language_info": {
   "codemirror_mode": {
    "name": "ipython",
    "version": 3
   },
   "file_extension": ".py",
   "mimetype": "text/x-python",
   "name": "python",
   "nbconvert_exporter": "python",
   "pygments_lexer": "ipython3",
   "version": "3.8.18"
  }
 },
 "nbformat": 4,
 "nbformat_minor": 2
}
